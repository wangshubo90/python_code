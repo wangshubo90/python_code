{
 "cells": [
  {
   "cell_type": "code",
   "execution_count": 1,
   "metadata": {},
   "outputs": [],
   "source": [
    "from __future__ import print_function\n",
    "import numpy as np\n",
    "import SimpleITK as sitk\n",
    "import os,sys\n",
    "import skimage\n",
    "from skimage import io\n",
    "import cv2"
   ]
  },
  {
   "cell_type": "code",
   "execution_count": 10,
   "metadata": {},
   "outputs": [],
   "source": [
    "sitkimage = sitk.ReadImage(os.path.join('D:\\MicroCT data','309 week 2 left.nii'))\n",
    "imgarray = sitk.GetArrayFromImage(sitkimage)"
   ]
  },
  {
   "cell_type": "code",
   "execution_count": 3,
   "metadata": {},
   "outputs": [],
   "source": [
    "print(imgarray.shape)\n",
    "print(imgarray[30,150,150])"
   ]
  },
  {
   "cell_type": "code",
   "execution_count": 4,
   "metadata": {},
   "outputs": [],
   "source": [
    "imgpath = os.path.join('D:\\MicroCT data','3rd batch week 2 300 slides below growth plate','309 week 2 left 1850-1550')\n",
    "images = []\n",
    "for image in sorted(os.listdir(imgpath)):\n",
    "    if image.endswith('.bmp'):\n",
    "        simage = skimage.io.imread(os.path.join(imgpath,image),as_gray=True)\n",
    "        images.append(simage)\n",
    "images = np.asarray(images)\n",
    "print(images.shape)\n",
    "print(images[30,150,150])"
   ]
  },
  {
   "cell_type": "code",
   "execution_count": 5,
   "metadata": {},
   "outputs": [],
   "source": [
    "imgcollection = []\n",
    "for image in sorted(os.listdir(imgpath)):    \n",
    "    if image.endswith('.bmp'):\n",
    "        image = os.path.join(imgpath,image)\n",
    "        imgcollection.append(image)\n",
    "images2 = skimage.io.imread_collection(imgcollection)\n",
    "images2 = skimage.io.concatenate_images(images2)\n",
    "print(images2.shape)\n",
    "print(images2[30,150,150])"
   ]
  },
  {
   "cell_type": "code",
   "execution_count": 6,
   "metadata": {},
   "outputs": [],
   "source": [
    "images3 = []\n",
    "for image in sorted(os.listdir(imgpath)):\n",
    "    if image.endswith('.bmp'):\n",
    "        simage = cv2.imread(os.path.join(imgpath,image),0)\n",
    "        images3.append(simage)\n",
    "images3 = np.asarray(images3)\n",
    "print(images3.shape)\n",
    "print(images3[30,150,150])\n"
   ]
  },
  {
   "cell_type": "code",
   "execution_count": 12,
   "metadata": {},
   "outputs": [],
   "source": [
    "print(sitkimage.GetSize())\n",
    "print(sitkimage.GetOrigin())\n",
    "print(sitkimage.GetSpacing())\n",
    "print(sitkimage.GetDirection())\n",
    "print(sitkimage.GetNumberOfComponentsPerPixel())\n",
    "print(sitkimage.GetWidth())\n",
    "print(sitkimage.GetHeight())\n",
    "print(sitkimage.GetDepth())\n",
    "print(sitkimage.GetDimension())\n",
    "print(sitkimage.GetPixelIDValue())\n",
    "print(sitkimage.GetPixelIDTypeAsString())"
   ]
  },
  {
   "cell_type": "code",
   "execution_count": 13,
   "metadata": {},
   "outputs": [],
   "source": [
    "sitkimage2 = sitk.GetImageFromArray(images)"
   ]
  },
  {
   "cell_type": "code",
   "execution_count": 14,
   "metadata": {},
   "outputs": [],
   "source": [
    "print(sitkimage2.GetSize())\n",
    "print(sitkimage2.GetOrigin())\n",
    "print(sitkimage2.GetSpacing())\n",
    "print(sitkimage2.GetDirection())\n",
    "print(sitkimage2.GetNumberOfComponentsPerPixel())\n",
    "print(sitkimage2.GetWidth())\n",
    "print(sitkimage2.GetHeight())\n",
    "print(sitkimage2.GetDepth())\n",
    "print(sitkimage2.GetDimension())\n",
    "print(sitkimage2.GetPixelIDValue())\n",
    "print(sitkimage2.GetPixelIDTypeAsString())"
   ]
  },
  {
   "cell_type": "code",
   "execution_count": 42,
   "metadata": {},
   "outputs": [],
   "source": [
    "len = images.shape[0]\n",
    "for i in range(len):\n",
    "    newimage = images[i,:,:].astype('uint8')\n",
    "    skimage.io.imsave(os.path.join('D:\\MicroCT data','test 2dseq save','319 week 2 left %1.6d.tif' %(i+1)),newimage)\n",
    "    "
   ]
  },
  {
   "cell_type": "code",
   "execution_count": 1,
   "metadata": {},
   "outputs": [],
   "source": [
    "print('319 week2 left %4.6d.tif' %1235)"
   ]
  },
  {
   "cell_type": "code",
   "execution_count": null,
   "metadata": {},
   "outputs": [],
   "source": [
    "outF = open(\"myOutFile.txt\", \"w\")\n",
    "for line in textList:\n",
    "  # write line to output file\n",
    "  outF.write(line)\n",
    "  outF.write(\"\\n\")\n",
    "outF.close()"
   ]
  }
 ],
 "metadata": {
  "kernelspec": {
   "display_name": "Python 3",
   "language": "python",
   "name": "python3"
  },
  "language_info": {
   "codemirror_mode": {
    "name": "ipython",
    "version": 3
   },
   "file_extension": ".py",
   "mimetype": "text/x-python",
   "name": "python",
   "nbconvert_exporter": "python",
   "pygments_lexer": "ipython3",
   "version": "3.7.2"
  }
 },
 "nbformat": 4,
 "nbformat_minor": 2
}