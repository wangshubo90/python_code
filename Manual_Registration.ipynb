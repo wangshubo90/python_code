{
 "cells": [
  {
   "cell_type": "code",
   "execution_count": 1,
   "metadata": {},
   "outputs": [],
   "source": [
    "import numpy as np\n",
    "import matplotlib.pyplot as plt\n",
    "import SimpleITK as sitk\n",
    "from shubow_tools import imreadseq_multithread, imsaveseq\n",
    "from ipywidgets import interact, fixed\n",
    "%matplotlib inline"
   ]
  },
  {
   "cell_type": "code",
   "execution_count": 13,
   "metadata": {},
   "outputs": [],
   "source": [
    "class Registration:\n",
    "    def __init__(self, ref_dir, tar_dir, ref_z_range=None, tar_z_range = None, ref_flip=False, tar_flip=False):\n",
    "        \n",
    "        if not ref_flip:\n",
    "            self.ref_img = sitk.Cast(self.imread(ref_dir, z_range = ref_z_range), sitk.sitkFloat32)\n",
    "        else:\n",
    "            self.ref_img = sitk.Cast(sitk.GetImageFromArray(\n",
    "                np.flip(self.imread(ref_dir, z_range = ref_z_range, sitkimg = False), axis = 2)\n",
    "            ), sitk.sitkFloat32)\n",
    "            \n",
    "        if not tar_flip:    \n",
    "            self.tar_img = sitk.Cast(self.imread(tar_dir, z_range = tar_z_range), sitk.sitkFloat32)\n",
    "        else:\n",
    "            self.tar_img = sitk.Cast(sitk.GetImageFromArray(\n",
    "                np.flip(self.imread(tar_dir, z_range = tar_z_range, sitkimg = False), axis = 2)\n",
    "            ), sitk.sitkFloat32)\n",
    "        \n",
    "        self.ref_shape = self.ref_img.GetSize()\n",
    "        self.tar_shape = self.tar_img.GetSize()\n",
    "        self.reg_img = None\n",
    "        self.transformation = sitk.Euler3DTransform()\n",
    "        \n",
    "    def imread(self, *args, **kwds):\n",
    "        return imreadseq_multithread(*args,**kwds)\n",
    "    \n",
    "    def center_initialization(self):\n",
    "        initial_transform = sitk.CenteredTransformInitializer(self.ref_img, \n",
    "                                                      self.tar_img, \n",
    "                                                      sitk.Euler3DTransform(), \n",
    "                                                      sitk.CenteredTransformInitializerFilter.GEOMETRY)\n",
    "        \n",
    "        \n",
    "        return initial_transform\n",
    "    \n",
    "    def manual_initialization(self):\n",
    "                \n",
    "        def display( \n",
    "                    img_x, img_y, img_z, \n",
    "                    translation_x, translation_y, translation_z, \n",
    "                    rotation_x, rotation_y, rotation_z\n",
    "                   ):\n",
    "            \n",
    "            translation=(-translation_x, -translation_y, -translation_z)\n",
    "            center=[0.5*i for i in self.ref_shape]\n",
    "            rotation=(rotation_x, rotation_y, rotation_z)\n",
    "            \n",
    "            self.transformation.SetCenter(center)\n",
    "            self.transformation.SetRotation(*rotation)\n",
    "            self.transformation.SetTranslation(translation)\n",
    "            \n",
    "            self.reg_img = sitk.Resample(self.tar_img, self.ref_img, self.transformation, sitk.sitkLinear, 0.0, sitk.sitkFloat32)  \n",
    "            #yz_img = sitk.GetArrayFromImage(self.reg_img[img_x, :, :]) * 0.5 + sitk.GetArrayFromImage(self.ref_img[img_x, :, :])*0.5 \n",
    "            #xz_img = sitk.GetArrayFromImage(self.reg_img[:, img_y, :]) * 0.5 + sitk.GetArrayFromImage(self.ref_img[:, img_y, :])*0.5 \n",
    "            #xy_img = sitk.GetArrayFromImage(self.reg_img[:, :, img_z]) * 0.5 + sitk.GetArrayFromImage(self.ref_img[:, :, img_z])*0.5 \n",
    "            \n",
    "            plt.subplots(2,2,figsize=(10,8))\n",
    "            plt.subplot(2,2,1)\n",
    "            plt.imshow(sitk.GetArrayFromImage(self.ref_img)[::-1, :, img_x])\n",
    "            plt.imshow(sitk.GetArrayFromImage(self.reg_img)[::-1, :, img_x], cmap=plt.cm.Greys_r, alpha=0.5)\n",
    "            plt.title(\"Y-Z plane\")\n",
    "            plt.axis('off')\n",
    "            \n",
    "            plt.subplot(2,2,2)\n",
    "            plt.imshow(sitk.GetArrayFromImage(self.ref_img)[img_z, :, :])\n",
    "            plt.imshow(sitk.GetArrayFromImage(self.reg_img)[img_z, :, :], cmap=plt.cm.Greys_r, alpha=0.5)\n",
    "            plt.title(\"X-Y plane\")\n",
    "            plt.axis('off') \n",
    "            \n",
    "            plt.subplot(2,2,3)\n",
    "            plt.imshow(sitk.GetArrayFromImage(self.ref_img)[::-1, img_y, :])\n",
    "            plt.imshow(sitk.GetArrayFromImage(self.reg_img)[::-1, img_y, :], cmap=plt.cm.Greys_r, alpha=0.5)\n",
    "            plt.title(\"X-Z plane\")\n",
    "            plt.axis('off')   \n",
    "            \n",
    "            plt.subplot(2,2,4)\n",
    "            plt.axis('off') \n",
    "            \n",
    "            \n",
    "        interact(display, img_x=(0, self.ref_shape[0]-1), img_y=(0, self.ref_shape[1]-1), img_z=(0, self.ref_shape[2]-1), \n",
    "                 translation_x=(-self.ref_shape[0], self.ref_shape[0]), \n",
    "                 translation_y=(-self.ref_shape[1], self.ref_shape[1]), \n",
    "                 translation_z=(-self.ref_shape[2], self.ref_shape[2]),\n",
    "                 rotation_x=(-np.pi, np.pi, 0.1), rotation_y=(-np.pi, np.pi, 0.1), rotation_z=(-np.pi, np.pi, 0.1)\n",
    "                )\n",
    "        \n",
    "    def registration(self):\n",
    "        registration_method = sitk.ImageRegistrationMethod()\n",
    "        registration_method.SetMetricAsMattesMutualInformation(numberOfHistogramBins=50)\n",
    "        registration_method.SetMetricSamplingStrategy(registration_method.RANDOM)\n",
    "        registration_method.SetMetricSamplingPercentage(0.40)\n",
    "        registration_method.SetInterpolator(sitk.sitkLinear)\n",
    "        registration_method.SetOptimizerAsGradientDescentLineSearch(learningRate=1.3,\n",
    "                                                                numberOfIterations=200,\n",
    "                                                                convergenceMinimumValue=1e-5,\n",
    "                                                                convergenceWindowSize=5)\n",
    "        registration_method.SetOptimizerScalesFromPhysicalShift()\n",
    "        registration_method.SetShrinkFactorsPerLevel(shrinkFactors = [4,2,1])\n",
    "        registration_method.SetSmoothingSigmasPerLevel(smoothingSigmas=[2,2,1])\n",
    "        registration_method.SmoothingSigmasAreSpecifiedInPhysicalUnitsOn()\n",
    "        registration_method.SetInitialTransform(ini_transform, inPlace=False)\n",
    "        self.transformation = registration_method.Execute(self.ref_img, self.tar_img)\n",
    "        self.reg_img = sitk.Resample(self.tar_img, self.ref_img, self.transformation, sitk.sitkLinear, 0.0, sitk.sitkUInt8)\n",
    "        \n",
    "        return\n",
    "    \n",
    "    def display(self, sitkimage):\n",
    "        \n",
    "        return\n",
    "        \n",
    "        "
   ]
  },
  {
   "cell_type": "code",
   "execution_count": 14,
   "metadata": {},
   "outputs": [
    {
     "data": {
      "application/vnd.jupyter.widget-view+json": {
       "model_id": "778fa6064d68400cba0627b313303b76",
       "version_major": 2,
       "version_minor": 0
      },
      "text/plain": [
       "interactive(children=(IntSlider(value=221, description='img_x', max=443), IntSlider(value=269, description='im…"
      ]
     },
     "metadata": {},
     "output_type": "display_data"
    }
   ],
   "source": [
    "ref = r\"/media/spl/D/MicroCT_data/Machine learning/SITK_reg_7um/339 week 2 right tibia registered\"\n",
    "tar = r\"/media/spl/D/MicroCT_data/Machine learning/Treadmill running 35n tibia/339 week 3 right tibia\"\n",
    "\n",
    "reg = Registration(ref, tar, tar_z_range=[-550, -100], tar_flip = True)\n",
    "reg.manual_initialization()"
   ]
  },
  {
   "cell_type": "code",
   "execution_count": 12,
   "metadata": {},
   "outputs": [
    {
     "name": "stdout",
     "output_type": "stream",
     "text": [
      "(222.0, 269.5, 150.0)\n",
      "(176.0, 0.0, 126.0)\n",
      "-0.24159\n",
      "-0.04159265358979303\n",
      "-0.64159\n"
     ]
    }
   ],
   "source": [
    "print(reg.transformation.GetCenter())\n",
    "print(reg.transformation.GetTranslation())\n",
    "print(reg.transformation.GetAngleX())\n",
    "print(reg.transformation.GetAngleY())\n",
    "print(reg.transformation.GetAngleZ())"
   ]
  },
  {
   "cell_type": "code",
   "execution_count": 81,
   "metadata": {},
   "outputs": [],
   "source": []
  },
  {
   "cell_type": "raw",
   "metadata": {},
   "source": []
  }
 ],
 "metadata": {
  "kernelspec": {
   "display_name": "Python 3",
   "language": "python",
   "name": "python3"
  },
  "language_info": {
   "codemirror_mode": {
    "name": "ipython",
    "version": 3
   },
   "file_extension": ".py",
   "mimetype": "text/x-python",
   "name": "python",
   "nbconvert_exporter": "python",
   "pygments_lexer": "ipython3",
   "version": "3.7.5"
  }
 },
 "nbformat": 4,
 "nbformat_minor": 2
}
