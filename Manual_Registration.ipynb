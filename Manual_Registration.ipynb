{
 "cells": [
  {
   "cell_type": "code",
   "execution_count": 1,
   "metadata": {},
   "outputs": [],
   "source": [
    "import numpy as np\n",
    "import matplotlib.pyplot as plt\n",
    "import SimpleITK as sitk\n",
    "from shubow_tools import imreadseq_multithread, imsaveseq\n",
    "from ipywidgets import interact, fixed, interact_manual\n",
    "%matplotlib inline"
   ]
  },
  {
   "cell_type": "code",
   "execution_count": 2,
   "metadata": {},
   "outputs": [],
   "source": [
    "class Registration:\n",
    "    def __init__(self, ref_dir, tar_dir, ref_z_range=None, tar_z_range = None, ref_flip=False, tar_flip=False):\n",
    "        \n",
    "        if not ref_flip:\n",
    "            self.ref_img = sitk.Cast(self.imread(ref_dir, z_range = ref_z_range), sitk.sitkFloat32)\n",
    "        else:\n",
    "            self.ref_img = sitk.Cast(sitk.GetImageFromArray(\n",
    "                np.flip(self.imread(ref_dir, z_range = ref_z_range, sitkimg = False), axis = 2)\n",
    "            ), sitk.sitkFloat32)\n",
    "            \n",
    "        if not tar_flip:    \n",
    "            self.tar_img = sitk.Cast(self.imread(tar_dir, z_range = tar_z_range), sitk.sitkFloat32)\n",
    "        else:\n",
    "            self.tar_img = sitk.Cast(sitk.GetImageFromArray(\n",
    "                np.flip(self.imread(tar_dir, z_range = tar_z_range, sitkimg = False), axis = 2)\n",
    "            ), sitk.sitkFloat32)\n",
    "        \n",
    "        self.ref_shape = self.ref_img.GetSize()\n",
    "        self.tar_shape = self.tar_img.GetSize()\n",
    "        self.reg_img = None\n",
    "        self.transformation = self.__center_initialization__()\n",
    "        self.reg_transform = None\n",
    "        \n",
    "    def imread(self, *args, **kwds):\n",
    "        return imreadseq_multithread(*args,**kwds)\n",
    "    \n",
    "    def __center_initialization__(self):\n",
    "        initial_transform = sitk.Euler3DTransform(sitk.CenteredTransformInitializer(self.ref_img, \n",
    "                                                      self.tar_img, \n",
    "                                                      sitk.Euler3DTransform(), \n",
    "                                                      sitk.CenteredTransformInitializerFilter.GEOMETRY))\n",
    "        \n",
    "        \n",
    "        return initial_transform\n",
    "    \n",
    "    def manual_initialization(self):\n",
    "                \n",
    "        def display( \n",
    "                    img_x, img_y, img_z, \n",
    "                    translation_x, translation_y, translation_z, \n",
    "                    rotation_x, rotation_y, rotation_z\n",
    "                   ):\n",
    "            \n",
    "            translation=(-translation_x, -translation_y, -translation_z)\n",
    "            center=[0.5*i for i in self.ref_shape]\n",
    "            rotation=(rotation_x, -rotation_y, -rotation_z)\n",
    "            \n",
    "            self.transformation.SetCenter(center)\n",
    "            self.transformation.SetRotation(*rotation)\n",
    "            self.transformation.SetTranslation(translation)\n",
    "            \n",
    "            self.reg_img = sitk.Resample(self.tar_img, self.ref_img, self.transformation, sitk.sitkLinear, 0.0, sitk.sitkFloat32)  \n",
    "            #yz_img = sitk.GetArrayFromImage(self.reg_img[img_x, :, :]) * 0.5 + sitk.GetArrayFromImage(self.ref_img[img_x, :, :])*0.5 \n",
    "            #xz_img = sitk.GetArrayFromImage(self.reg_img[:, img_y, :]) * 0.5 + sitk.GetArrayFromImage(self.ref_img[:, img_y, :])*0.5 \n",
    "            #xy_img = sitk.GetArrayFromImage(self.reg_img[:, :, img_z]) * 0.5 + sitk.GetArrayFromImage(self.ref_img[:, :, img_z])*0.5 \n",
    "            \n",
    "            plt.subplots(2,2,figsize=(10,8))\n",
    "            plt.subplot(2,2,1)\n",
    "            plt.imshow(sitk.GetArrayFromImage(self.ref_img)[::-1, :, img_x])\n",
    "            plt.imshow(sitk.GetArrayFromImage(self.reg_img)[::-1, :, img_x], cmap=plt.cm.Greys_r, alpha=0.5)\n",
    "            plt.title(\"Y-Z plane\")\n",
    "            plt.axis('off')\n",
    "            \n",
    "            plt.subplot(2,2,2)\n",
    "            plt.imshow(sitk.GetArrayFromImage(self.ref_img)[img_z, :, :])\n",
    "            plt.imshow(sitk.GetArrayFromImage(self.reg_img)[img_z, :, :], cmap=plt.cm.Greys_r, alpha=0.5)\n",
    "            plt.title(\"X-Y plane\")\n",
    "            plt.axis('off') \n",
    "            \n",
    "            plt.subplot(2,2,3)\n",
    "            plt.imshow(sitk.GetArrayFromImage(self.ref_img)[::-1, img_y, :])\n",
    "            plt.imshow(sitk.GetArrayFromImage(self.reg_img)[::-1, img_y, :], cmap=plt.cm.Greys_r, alpha=0.5)\n",
    "            plt.title(\"X-Z plane\")\n",
    "            plt.axis('off')   \n",
    "            \n",
    "            plt.subplot(2,2,4)\n",
    "            plt.axis('off') \n",
    "            \n",
    "            \n",
    "        interact_manual(display, img_x=(0, self.ref_shape[0]-1), img_y=(0, self.ref_shape[1]-1), img_z=(0, self.ref_shape[2]-1), \n",
    "                 translation_x=(-self.ref_shape[0]-self.transformation.GetTranslation()[0], self.ref_shape[0]-self.transformation.GetTranslation()[0], 1), \n",
    "                 translation_y=(-self.ref_shape[1]-self.transformation.GetTranslation()[1], self.ref_shape[1]-self.transformation.GetTranslation()[1], 1), \n",
    "                 translation_z=(-self.ref_shape[2]-self.transformation.GetTranslation()[2], self.ref_shape[2]-self.transformation.GetTranslation()[2], 1),\n",
    "                 rotation_x=(-np.pi+self.transformation.GetAngleX(), np.pi+self.transformation.GetAngleX(), 0.05), \n",
    "                 rotation_y=(-np.pi-self.transformation.GetAngleY(), np.pi-self.transformation.GetAngleY(), 0.05), \n",
    "                 rotation_z=(-np.pi-self.transformation.GetAngleZ(), np.pi-self.transformation.GetAngleZ(), 0.05)\n",
    "                )\n",
    "        \n",
    "    def registration(self):\n",
    "        registration_method = sitk.ImageRegistrationMethod()\n",
    "        registration_method.SetMetricAsMattesMutualInformation(numberOfHistogramBins=50)\n",
    "        registration_method.SetMetricSamplingStrategy(registration_method.RANDOM)\n",
    "        registration_method.SetMetricSamplingPercentage(0.50)\n",
    "        registration_method.SetInterpolator(sitk.sitkLinear)\n",
    "        registration_method.SetOptimizerAsGradientDescentLineSearch(learningRate=1.4,\n",
    "                                                                numberOfIterations=200,\n",
    "                                                                convergenceMinimumValue=1e-5,\n",
    "                                                                convergenceWindowSize=5)\n",
    "        registration_method.SetOptimizerScalesFromPhysicalShift()\n",
    "        registration_method.SetShrinkFactorsPerLevel(shrinkFactors = [4,2,1])\n",
    "        registration_method.SetSmoothingSigmasPerLevel(smoothingSigmas=[2,2,1])\n",
    "        registration_method.SmoothingSigmasAreSpecifiedInPhysicalUnitsOn()\n",
    "        registration_method.SetInitialTransform(self.transformation, inPlace=False)\n",
    "        self.reg_transform = registration_method.Execute(self.ref_img, self.tar_img)\n",
    "        self.reg_img = sitk.Resample(self.tar_img, self.ref_img, self.reg_transform, sitk.sitkLinear, 0.0, sitk.sitkFloat32)\n",
    "        \n",
    "        self.transformation.SetCenter(self.reg_transform.GetFixedParameters()[:3])\n",
    "        self.transformation.SetRotation(*self.reg_transform.GetParameters()[:3])\n",
    "        self.transformation.SetTranslation(self.reg_transform.GetParameters()[3:])\n",
    "    \n",
    "    def display_result(self):\n",
    "        \n",
    "        def display(img_x, img_y, img_z):\n",
    "            \n",
    "            plt.subplots(2,2,figsize=(10,8))\n",
    "            plt.subplot(2,2,1)\n",
    "            plt.imshow(sitk.GetArrayFromImage(self.ref_img)[::-1, :, img_x])\n",
    "            plt.imshow(sitk.GetArrayFromImage(self.reg_img)[::-1, :, img_x], cmap=plt.cm.Greys_r, alpha=0.5)\n",
    "            plt.title(\"Y-Z plane\")\n",
    "            plt.axis('off')\n",
    "            \n",
    "            plt.subplot(2,2,2)\n",
    "            plt.imshow(sitk.GetArrayFromImage(self.ref_img)[img_z, :, :])\n",
    "            plt.imshow(sitk.GetArrayFromImage(self.reg_img)[img_z, :, :], cmap=plt.cm.Greys_r, alpha=0.5)\n",
    "            plt.title(\"X-Y plane\")\n",
    "            plt.axis('off') \n",
    "            \n",
    "            plt.subplot(2,2,3)\n",
    "            plt.imshow(sitk.GetArrayFromImage(self.ref_img)[::-1, img_y, :])\n",
    "            plt.imshow(sitk.GetArrayFromImage(self.reg_img)[::-1, img_y, :], cmap=plt.cm.Greys_r, alpha=0.5)\n",
    "            plt.title(\"X-Z plane\")\n",
    "            plt.axis('off')   \n",
    "            \n",
    "            plt.subplot(2,2,4)\n",
    "            plt.axis('off') \n",
    "        \n",
    "        \n",
    "        interact(display, img_x=(0, self.ref_shape[0]-1), img_y=(0, self.ref_shape[1]-1), img_z=(0, self.ref_shape[2]-1))\n",
    "        \n",
    "    def save(self, *args, **kwds):\n",
    "        imsaveseq(sitk.Cast(self.reg_img, sitk.sitkUInt8), *args, **kwds)\n",
    "        \n",
    "    def save_transform(self, *args, **kwds):\n",
    "        sitk.WriteTransform(self.transformation, *args, **kwds)\n",
    "        \n",
    "    def load_transform(self, *args, **kwds):\n",
    "        self.transformation = sitk.ReadTransform(*args, **kwds)"
   ]
  },
  {
   "cell_type": "code",
   "execution_count": 4,
   "metadata": {},
   "outputs": [],
   "source": [
    "import os\n",
    "import re\n",
    "import shutil\n",
    "refdir = r\"E:\\Yoda1-tumor-loading 2.26.2021\\Registration week 0\"\n",
    "tardir = r\"E:\\Yoda1-tumor-loading 2.26.2021\\Tibia & femur week 2\"\n",
    "img_title = r\"537 week 2 left tibia\"\n",
    "fd_path = os.path.join(refdir, img_title+\" registered\")\n",
    "\n",
    "ref = os.path.join(refdir, re.sub(\"week \\d\", \"week 0\", img_title+\" registered\"))\n",
    "\n",
    "tar = os.path.join(tardir, img_title)\n",
    "\n",
    "\n",
    "##############################\n",
    "reg = Registration(ref, tar, tar_z_range=[-550, -20], tar_flip = False)\n",
    "#reg = Registration(ref, tar)"
   ]
  },
  {
   "cell_type": "code",
   "execution_count": 5,
   "metadata": {},
   "outputs": [
    {
     "data": {
      "application/vnd.jupyter.widget-view+json": {
       "model_id": "c1fa5e39a8344f84b12b44921233eb90",
       "version_major": 2,
       "version_minor": 0
      },
      "text/plain": [
       "interactive(children=(IntSlider(value=275, description='img_x', max=551), IntSlider(value=274, description='im…"
      ]
     },
     "metadata": {},
     "output_type": "display_data"
    }
   ],
   "source": [
    "reg.manual_initialization()"
   ]
  },
  {
   "cell_type": "code",
   "execution_count": 26,
   "metadata": {},
   "outputs": [],
   "source": [
    "reg.save_transform(os.path.join(tar, img_title+\".tfm\"))"
   ]
  },
  {
   "cell_type": "code",
   "execution_count": 6,
   "metadata": {},
   "outputs": [],
   "source": [
    "reg.registration()"
   ]
  },
  {
   "cell_type": "code",
   "execution_count": 7,
   "metadata": {},
   "outputs": [
    {
     "data": {
      "application/vnd.jupyter.widget-view+json": {
       "model_id": "35ee184bd4e84971bb2a7da9467f5f50",
       "version_major": 2,
       "version_minor": 0
      },
      "text/plain": [
       "interactive(children=(IntSlider(value=275, description='img_x', max=551), IntSlider(value=274, description='im…"
      ]
     },
     "metadata": {},
     "output_type": "display_data"
    }
   ],
   "source": [
    "reg.display_result()"
   ]
  },
  {
   "cell_type": "code",
   "execution_count": 8,
   "metadata": {},
   "outputs": [],
   "source": [
    "'''if os.path.exists(fd_path):\n",
    "    shutil.rmtree(fd_path)\n",
    "\n",
    "os.mkdir(fd_path)'''\n",
    "\n",
    "reg.save(r\"E:\\Yoda1-tumor-loading 2.26.2021\\Registration week 2\\537 week 2 left tibia registered\", img_title+\"_Reg\")"
   ]
  },
  {
   "cell_type": "code",
   "execution_count": 34,
   "metadata": {},
   "outputs": [
    {
     "name": "stdout",
     "output_type": "stream",
     "text": [
      "(390.0, 303.0, 381.0)\n",
      "(-0.0, -0.0, -0.0)\n",
      "-0.04159265358979303\n",
      "-0.04159265358979303\n",
      "-0.04159265358979303\n"
     ]
    }
   ],
   "source": [
    "print(reg.transformation.GetCenter())\n",
    "print(reg.transformation.GetTranslation())\n",
    "print(reg.transformation.GetAngleX())\n",
    "print(reg.transformation.GetAngleY())\n",
    "print(reg.transformation.GetAngleZ())"
   ]
  },
  {
   "cell_type": "code",
   "execution_count": 12,
   "metadata": {},
   "outputs": [
    {
     "name": "stdout",
     "output_type": "stream",
     "text": [
      "<class 'SimpleITK.SimpleITK.Transform'>\n"
     ]
    }
   ],
   "source": [
    "print(type(reg.reg_transform))"
   ]
  },
  {
   "cell_type": "code",
   "execution_count": 15,
   "metadata": {},
   "outputs": [
    {
     "name": "stdout",
     "output_type": "stream",
     "text": [
      "<class 'SimpleITK.SimpleITK.Euler3DTransform'>\n"
     ]
    }
   ],
   "source": [
    "print(type(reg.transformation))"
   ]
  },
  {
   "cell_type": "code",
   "execution_count": 28,
   "metadata": {},
   "outputs": [
    {
     "data": {
      "text/plain": [
       "(222.0, 269.5, 175.0)"
      ]
     },
     "execution_count": 28,
     "metadata": {},
     "output_type": "execute_result"
    }
   ],
   "source": [
    "reg.transformation.GetCenter()"
   ]
  },
  {
   "cell_type": "code",
   "execution_count": 22,
   "metadata": {},
   "outputs": [
    {
     "data": {
      "text/plain": [
       "['AddTransform',\n",
       " 'FlattenTransform',\n",
       " 'GetDimension',\n",
       " 'GetFixedParameters',\n",
       " 'GetITKBase',\n",
       " 'GetInverse',\n",
       " 'GetName',\n",
       " 'GetNumberOfFixedParameters',\n",
       " 'GetNumberOfParameters',\n",
       " 'GetParameters',\n",
       " 'IsLinear',\n",
       " 'MakeUnique',\n",
       " 'SetFixedParameters',\n",
       " 'SetIdentity',\n",
       " 'SetInverse',\n",
       " 'SetParameters',\n",
       " 'TransformPoint',\n",
       " 'TransformVector',\n",
       " 'WriteTransform',\n",
       " '__class__',\n",
       " '__del__',\n",
       " '__delattr__',\n",
       " '__dict__',\n",
       " '__dir__',\n",
       " '__doc__',\n",
       " '__eq__',\n",
       " '__format__',\n",
       " '__ge__',\n",
       " '__getattr__',\n",
       " '__getattribute__',\n",
       " '__gt__',\n",
       " '__hash__',\n",
       " '__init__',\n",
       " '__init_subclass__',\n",
       " '__le__',\n",
       " '__lt__',\n",
       " '__module__',\n",
       " '__ne__',\n",
       " '__new__',\n",
       " '__reduce__',\n",
       " '__reduce_ex__',\n",
       " '__repr__',\n",
       " '__setattr__',\n",
       " '__sizeof__',\n",
       " '__str__',\n",
       " '__subclasshook__',\n",
       " '__swig_destroy__',\n",
       " '__swig_getmethods__',\n",
       " '__swig_setmethods__',\n",
       " '__weakref__',\n",
       " 'this']"
      ]
     },
     "execution_count": 22,
     "metadata": {},
     "output_type": "execute_result"
    }
   ],
   "source": [
    "dir(reg.reg_transform)"
   ]
  },
  {
   "cell_type": "code",
   "execution_count": 27,
   "metadata": {},
   "outputs": [
    {
     "name": "stdout",
     "output_type": "stream",
     "text": [
      "(222.0, 269.5, 175.0, 0.0)\n",
      "(0.03241928462907902, 0.014786274483489823, -0.004661059801034991, 68.62378224287195, 56.36650938888136, 138.81392240269452)\n"
     ]
    }
   ],
   "source": [
    "print(reg.reg_transform.GetFixedParameters())\n",
    "print(reg.reg_transform.GetParameters())"
   ]
  },
  {
   "cell_type": "code",
   "execution_count": 24,
   "metadata": {},
   "outputs": [
    {
     "name": "stdout",
     "output_type": "stream",
     "text": [
      "itk::simple::Transform\n",
      " CompositeTransform (0x3a7d730)\n",
      "   RTTI typeinfo:   itk::CompositeTransform<double, 3u>\n",
      "   Reference Count: 1\n",
      "   Modified Time: 381919458\n",
      "   Debug: Off\n",
      "   Object Name: \n",
      "   Observers: \n",
      "     none\n",
      "   Transforms in queue, from begin to end:\n",
      "   >>>>>>>>>\n",
      "   Euler3DTransform (0x3968aa0)\n",
      "     RTTI typeinfo:   itk::Euler3DTransform<double>\n",
      "     Reference Count: 2\n",
      "     Modified Time: 381919450\n",
      "     Debug: Off\n",
      "     Object Name: \n",
      "     Observers: \n",
      "       none\n",
      "     Matrix: \n",
      "       0.999882 0.00465859 0.0146345 \n",
      "       -0.00418128 0.999464 -0.0324786 \n",
      "       -0.014778 0.0324136 0.999365 \n",
      "     Offset: [64.8334, 63.1231, 133.47]\n",
      "     Center: [222, 269.5, 175]\n",
      "     Translation: [68.6238, 56.3665, 138.814]\n",
      "     Inverse: \n",
      "       0.999882 -0.00418128 -0.014778 \n",
      "       0.00465859 0.999464 0.0324136 \n",
      "       0.0146345 -0.0324786 0.999365 \n",
      "     Singular: 0\n",
      "     Euler's angles: AngleX=0.0324193 AngleY=0.0147863 AngleZ=-0.00466106\n",
      "     m_ComputeZYX = 0\n",
      "   End of MultiTransform.\n",
      "<<<<<<<<<<\n",
      "   TransformsToOptimizeFlags, begin() to end(): \n",
      "      1 \n",
      "   TransformsToOptimize in queue, from begin to end:\n",
      "   >>>>>>>>>\n",
      "   Euler3DTransform (0x3968aa0)\n",
      "     RTTI typeinfo:   itk::Euler3DTransform<double>\n",
      "     Reference Count: 2\n",
      "     Modified Time: 381919450\n",
      "     Debug: Off\n",
      "     Object Name: \n",
      "     Observers: \n",
      "       none\n",
      "     Matrix: \n",
      "       0.999882 0.00465859 0.0146345 \n",
      "       -0.00418128 0.999464 -0.0324786 \n",
      "       -0.014778 0.0324136 0.999365 \n",
      "     Offset: [64.8334, 63.1231, 133.47]\n",
      "     Center: [222, 269.5, 175]\n",
      "     Translation: [68.6238, 56.3665, 138.814]\n",
      "     Inverse: \n",
      "       0.999882 -0.00418128 -0.014778 \n",
      "       0.00465859 0.999464 0.0324136 \n",
      "       0.0146345 -0.0324786 0.999365 \n",
      "     Singular: 0\n",
      "     Euler's angles: AngleX=0.0324193 AngleY=0.0147863 AngleZ=-0.00466106\n",
      "     m_ComputeZYX = 0\n",
      "   End of TransformsToOptimizeQueue.\n",
      "<<<<<<<<<<\n",
      "   End of CompositeTransform.\n",
      "<<<<<<<<<<\n",
      "\n"
     ]
    }
   ],
   "source": [
    "print(reg.reg_transform)"
   ]
  },
  {
   "cell_type": "code",
   "execution_count": null,
   "metadata": {},
   "outputs": [],
   "source": []
  },
  {
   "cell_type": "code",
   "execution_count": null,
   "metadata": {},
   "outputs": [],
   "source": []
  },
  {
   "cell_type": "code",
   "execution_count": null,
   "metadata": {},
   "outputs": [],
   "source": []
  },
  {
   "cell_type": "code",
   "execution_count": null,
   "metadata": {},
   "outputs": [],
   "source": []
  }
 ],
 "metadata": {
  "kernelspec": {
   "display_name": "Python 3",
   "language": "python",
   "name": "python3"
  },
  "language_info": {
   "codemirror_mode": {
    "name": "ipython",
    "version": 3
   },
   "file_extension": ".py",
   "mimetype": "text/x-python",
   "name": "python",
   "nbconvert_exporter": "python",
   "pygments_lexer": "ipython3",
   "version": "3.7.4"
  }
 },
 "nbformat": 4,
 "nbformat_minor": 2
}
