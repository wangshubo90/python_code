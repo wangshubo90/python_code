{
 "cells": [
  {
   "cell_type": "code",
   "execution_count": 1,
   "metadata": {},
   "outputs": [
    {
     "name": "stdout",
     "output_type": "stream",
     "text": [
      "(1392640, 3)\n",
      "(36666, 3)\n"
     ]
    }
   ],
   "source": [
    "import numpy as np\n",
    "import skimage\n",
    "import histomicstk as htk\n",
    "from skimage.color import rgb2grey\n",
    "\n",
    "from matplotlib import pyplot\n",
    "\n",
    "file = r\"/home/spl/Desktop/Image_20739.tif\"\n",
    "image = skimage.io.imread(file)\n",
    "\n",
    "def vectorized_roi(image):\n",
    "    grey_img = np.uint8(rgb2grey(image)*255)\n",
    "    roi = grey_img <135\n",
    "    roi = roi.flatten()\n",
    "    roi_indices = np.argwhere(roi==True)\n",
    "    return roi, roi_indices\n",
    "\n",
    "roi, roi_indices = vectorized_roi(image)\n",
    "\n",
    "nuclei = image.reshape((-1,3))[roi]\n",
    "print(image.reshape((-1,3)).shape)\n",
    "print(nuclei.shape)"
   ]
  },
  {
   "cell_type": "code",
   "execution_count": 19,
   "metadata": {},
   "outputs": [
    {
     "data": {
      "application/vnd.jupyter.widget-view+json": {
       "model_id": "014187fe3b494ed889b619c56d45a0c5",
       "version_major": 2,
       "version_minor": 0
      },
      "text/plain": [
       "Output()"
      ]
     },
     "metadata": {},
     "output_type": "display_data"
    }
   ],
   "source": [
    "\n",
    "import k3d\n",
    "plot = k3d.plot()\n",
    "\n",
    "x = nuclei\n",
    "\n",
    "f = (np.sum(x,axis=1))\n",
    "colormap = k3d.colormaps.basic_color_maps.WarmCool\n",
    "colors = k3d.helpers.map_colors(f,colormap,[-2,.1])\n",
    "colors = colors.astype(np.uint32)\n",
    "\n",
    "\n",
    "\n",
    "plot += k3d.points(nuclei, point_size = 2)\n",
    "plot.display()\n",
    "\n",
    "plot.colors = colors\n",
    "plot.start_auto_play()"
   ]
  },
  {
   "cell_type": "code",
   "execution_count": null,
   "metadata": {},
   "outputs": [],
   "source": [
    "def __define_conv_matrix(stains = ['hematoxylin', 'dab','null']):\n",
    "    stain_color_map = htk.preprocessing.color_deconvolution.stain_color_map\n",
    "    conv_matrix = conv_matrix = np.array([stain_color_map[st] for st in stains]).T\n",
    "    return conv_matrix\n",
    "\n",
    "conv_matrix = __define_conv_matrix()\n",
    "img_deconvolved = htk.preprocessing.color_deconvolution.color_deconvolution(image, conv_matrix)"
   ]
  },
  {
   "cell_type": "code",
   "execution_count": null,
   "metadata": {},
   "outputs": [],
   "source": [
    "plot2 = k3d.plot()\n",
    "plot2 += k3d.points(positions = img_deconvolved.Stains.reshape(-1,3)[roi], point_size = 2)\n",
    "plot2.display()"
   ]
  },
  {
   "cell_type": "code",
   "execution_count": null,
   "metadata": {},
   "outputs": [],
   "source": [
    "help(k3d.colormaps.matplotlib_color_maps)"
   ]
  },
  {
   "cell_type": "code",
   "execution_count": 14,
   "metadata": {},
   "outputs": [
    {
     "data": {
      "application/vnd.jupyter.widget-view+json": {
       "model_id": "27630861c8db45779df41e3f8ff0f7d0",
       "version_major": 2,
       "version_minor": 0
      },
      "text/plain": [
       "Output()"
      ]
     },
     "metadata": {},
     "output_type": "display_data"
    }
   ],
   "source": [
    "import k3d\n",
    "import numpy as np\n",
    "\n",
    "x = np.random.randn(1000,3).astype(np.float32)\n",
    "point_size = 0.2\n",
    "\n",
    "plot = k3d.plot(name='points')\n",
    "plt_points = k3d.points(positions=x, point_size=0.2)\n",
    "plot += plt_points\n",
    "plt_points.shader='3d'\n",
    "plot.display()\n",
    "\n",
    "f = (np.sum(x**3-.1*x**2,axis=1))\n",
    "colormap = k3d.colormaps.basic_color_maps.WarmCool\n",
    "colors = k3d.helpers.map_colors(f,colormap,[-2,.1])\n",
    "colors = colors.astype(np.uint32)\n",
    "\n",
    "plt_points.colors = colors\n",
    "\n",
    "#plt_points.positions = {str(t):x/(1+t*3) for t in np.linspace(0,4,4)}\n",
    "\n",
    "plot.start_auto_play()"
   ]
  },
  {
   "cell_type": "code",
   "execution_count": null,
   "metadata": {},
   "outputs": [],
   "source": []
  }
 ],
 "metadata": {
  "kernelspec": {
   "display_name": "Python 3",
   "language": "python",
   "name": "python3"
  },
  "language_info": {
   "codemirror_mode": {
    "name": "ipython",
    "version": 3
   },
   "file_extension": ".py",
   "mimetype": "text/x-python",
   "name": "python",
   "nbconvert_exporter": "python",
   "pygments_lexer": "ipython3",
   "version": "3.7.5"
  }
 },
 "nbformat": 4,
 "nbformat_minor": 2
}
