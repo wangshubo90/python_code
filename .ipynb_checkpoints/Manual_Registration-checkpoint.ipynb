{
 "cells": [
  {
   "cell_type": "code",
   "execution_count": 43,
   "metadata": {},
   "outputs": [],
   "source": [
    "import numpy as np\n",
    "import matplotlib.pyplot as plt\n",
    "import SimpleITK as sitk\n",
    "from shubow_tools import imreadseq_multithread, imsaveseq\n",
    "from ipywidgets import interact, fixed\n",
    "%matplotlib inline"
   ]
  },
  {
   "cell_type": "code",
   "execution_count": 107,
   "metadata": {},
   "outputs": [],
   "source": [
    "class Registration:\n",
    "    def __init__(self, ref_dir, tar_dir, ref_z_range=None, tar_z_range = None):\n",
    "        \n",
    "        self.ref_img = self.imread(ref_dir, z_range = ref_z_range)\n",
    "        self.tar_img = self.imread(tar_dir, z_range = tar_z_range)\n",
    "        self.ref_shape = self.ref_img.GetSize()\n",
    "        self.tar_shape = self.tar_img.GetSize()\n",
    "        self.reg_img = None\n",
    "        self.transformation = sitk.Euler3DTransform()\n",
    "        \n",
    "    def imread(self, *args, **kwds):\n",
    "        return imreadseq_multithread(*args,**kwds)\n",
    "    \n",
    "    def center_initialization(self):\n",
    "        initial_transform = None\n",
    "        return initial_transform\n",
    "    \n",
    "    def manual_initialization(self):\n",
    "        \n",
    "        ref_img = sitk.Cast(self.ref_img, sitk.sitkFloat32)\n",
    "        tar_img = sitk.Cast(self.tar_img, sitk.sitkFloat32)\n",
    "        \n",
    "        def display( \n",
    "                    img_x, img_y, img_z, \n",
    "                    translation_x, translation_y, translation_z, \n",
    "                    rotation_x, rotation_y, rotation_z\n",
    "                   ):\n",
    "            \n",
    "            translation=(translation_x, translation_y, translation_z)\n",
    "            center=[0.5*i for i in self.ref_shape]\n",
    "            rotation=(rotation_x, rotation_y, rotation_z)\n",
    "            \n",
    "            self.transformation.SetCenter(center)\n",
    "            self.transformation.SetRotation(*rotation)\n",
    "            self.transformation.SetTranslation(translation)\n",
    "            \n",
    "            self.reg_img = sitk.Resample(tar_img, ref_img, self.transformation, sitk.sitkLinear, 0.0, sitk.sitkUInt8)  \n",
    "            #yz_img = sitk.GetArrayFromImage(self.reg_img[img_x, :, :]) * 0.5 + sitk.GetArrayFromImage(self.ref_img[img_x, :, :])*0.5 \n",
    "            #xz_img = sitk.GetArrayFromImage(self.reg_img[:, img_y, :]) * 0.5 + sitk.GetArrayFromImage(self.ref_img[:, img_y, :])*0.5 \n",
    "            #xy_img = sitk.GetArrayFromImage(self.reg_img[:, :, img_z]) * 0.5 + sitk.GetArrayFromImage(self.ref_img[:, :, img_z])*0.5 \n",
    "            \n",
    "            plt.subplots(2,2,figsize=(10,8))\n",
    "            plt.subplot(2,2,1)\n",
    "            plt.imshow(yz_img,cmap=plt.cm.Greys_r);\n",
    "            \n",
    "            plt.axis('off')\n",
    "            \n",
    "            plt.subplot(2,2,2)\n",
    "            plt.imshow(xz_img,cmap=plt.cm.Greys_r);\n",
    "            plt.axis('off')\n",
    "            \n",
    "            plt.subplot(2,2,3)\n",
    "            plt.imshow(xy_img,cmap=plt.cm.Greys_r);\n",
    "            plt.axis('off')            \n",
    "            \n",
    "        interact(display, img_x=(0, self.ref_shape[0]-1), img_y=(0, self.ref_shape[1]-1), img_z=(0, self.ref_shape[2]-1), \n",
    "                 translation_x=(-self.ref_shape[0], self.ref_shape[0]), \n",
    "                 translation_y=(-self.ref_shape[1], self.ref_shape[1]), \n",
    "                 translation_z=(-self.ref_shape[2], self.ref_shape[2]),\n",
    "                 rotation_x=(-np.pi, np.pi, 0.1), rotation_y=(-np.pi, np.pi, 0.1), rotation_z=(-np.pi, np.pi, 0.1)\n",
    "                )\n",
    "        \n",
    "    def registration(self):\n",
    "        \n",
    "        return\n",
    "    \n",
    "    def display(self):\n",
    "        \n",
    "        return\n",
    "        \n",
    "        "
   ]
  },
  {
   "cell_type": "code",
   "execution_count": 35,
   "metadata": {},
   "outputs": [],
   "source": [
    "class test:\n",
    "    def __init__(self):\n",
    "        self.data = 1\n",
    "        self.index= 2\n",
    "        self.data2 = sitk.Euler3DTransform()\n",
    "        \n",
    "    def inta(self):\n",
    "        def change(data):\n",
    "            self.data = data\n",
    "            self.data2.SetCenter((self.data,)*3)\n",
    "        \n",
    "        interact(change, data=(0,100,1))"
   ]
  },
  {
   "cell_type": "code",
   "execution_count": 36,
   "metadata": {},
   "outputs": [],
   "source": [
    "t = test()"
   ]
  },
  {
   "cell_type": "code",
   "execution_count": 37,
   "metadata": {},
   "outputs": [
    {
     "data": {
      "application/vnd.jupyter.widget-view+json": {
       "model_id": "746070d08a5141d3b3a3367ec18d003a",
       "version_major": 2,
       "version_minor": 0
      },
      "text/plain": [
       "interactive(children=(IntSlider(value=50, description='data'), Output()), _dom_classes=('widget-interact',))"
      ]
     },
     "metadata": {},
     "output_type": "display_data"
    }
   ],
   "source": [
    "t.inta()"
   ]
  },
  {
   "cell_type": "code",
   "execution_count": 42,
   "metadata": {},
   "outputs": [
    {
     "name": "stdout",
     "output_type": "stream",
     "text": [
      "44 (44.0, 44.0, 44.0)\n"
     ]
    }
   ],
   "source": [
    "print(t.data,t.data2.GetCenter())"
   ]
  },
  {
   "cell_type": "code",
   "execution_count": 108,
   "metadata": {},
   "outputs": [
    {
     "data": {
      "application/vnd.jupyter.widget-view+json": {
       "model_id": "e54066af2ca74e42b120d62fb1b067cf",
       "version_major": 2,
       "version_minor": 0
      },
      "text/plain": [
       "interactive(children=(IntSlider(value=389, description='img_x', max=779), IntSlider(value=302, description='im…"
      ]
     },
     "metadata": {},
     "output_type": "display_data"
    }
   ],
   "source": [
    "ref = r\"D:\\MicroCT data\\3rd batch week 3 composite\\309 w1w3 40% left\\week 1\"\n",
    "tar = r\"D:\\MicroCT data\\3rd batch week 3 composite\\309 w1w3 40% left\\week 3\"\n",
    "\n",
    "reg = Registration(ref, tar)\n",
    "reg.manual_initialization()"
   ]
  },
  {
   "cell_type": "code",
   "execution_count": 96,
   "metadata": {},
   "outputs": [
    {
     "name": "stdout",
     "output_type": "stream",
     "text": [
      "(390.0, 303.0, 381.0)\n",
      "(-99.0, -36.0, -12.0)\n",
      "0.35841\n",
      "0.15841\n",
      "0.05841\n"
     ]
    }
   ],
   "source": [
    "print(reg.transformation.GetCenter())\n",
    "print(reg.transformation.GetTranslation())\n",
    "print(reg.transformation.GetAngleX())\n",
    "print(reg.transformation.GetAngleY())\n",
    "print(reg.transformation.GetAngleZ())"
   ]
  },
  {
   "cell_type": "code",
   "execution_count": 81,
   "metadata": {},
   "outputs": [],
   "source": []
  },
  {
   "cell_type": "raw",
   "metadata": {},
   "source": []
  }
 ],
 "metadata": {
  "kernelspec": {
   "display_name": "Python 3",
   "language": "python",
   "name": "python3"
  },
  "language_info": {
   "codemirror_mode": {
    "name": "ipython",
    "version": 3
   },
   "file_extension": ".py",
   "mimetype": "text/x-python",
   "name": "python",
   "nbconvert_exporter": "python",
   "pygments_lexer": "ipython3",
   "version": "3.7.2"
  }
 },
 "nbformat": 4,
 "nbformat_minor": 2
}
