{
 "cells": [
  {
   "cell_type": "code",
   "execution_count": 1,
   "metadata": {},
   "outputs": [],
   "source": [
    "import numpy as np\n",
    "import matplotlib.pyplot as plt\n",
    "import SimpleITK as sitk\n",
    "from shubow_tools import imreadseq_multithread, imsaveseq\n",
    "from ipywidgets import interact, fixed, interact_manual\n",
    "%matplotlib inline"
   ]
  },
  {
   "cell_type": "code",
   "execution_count": 2,
   "metadata": {},
   "outputs": [],
   "source": [
    "class Registration:\n",
    "    def __init__(self, ref_dir, tar_dir, ref_z_range=None, tar_z_range = None, ref_flip=False, tar_flip=False):\n",
    "        \n",
    "        if not ref_flip:\n",
    "            self.ref_img = sitk.Cast(self.imread(ref_dir, z_range = ref_z_range), sitk.sitkFloat32)\n",
    "        else:\n",
    "            self.ref_img = sitk.Cast(sitk.GetImageFromArray(\n",
    "                np.flip(self.imread(ref_dir, z_range = ref_z_range, sitkimg = False), axis = 2)\n",
    "            ), sitk.sitkFloat32)\n",
    "            \n",
    "        if not tar_flip:    \n",
    "            self.tar_img = sitk.Cast(self.imread(tar_dir, z_range = tar_z_range), sitk.sitkFloat32)\n",
    "        else:\n",
    "            self.tar_img = sitk.Cast(sitk.GetImageFromArray(\n",
    "                np.flip(self.imread(tar_dir, z_range = tar_z_range, sitkimg = False), axis = 2)\n",
    "            ), sitk.sitkFloat32)\n",
    "        \n",
    "        self.ref_shape = self.ref_img.GetSize()\n",
    "        self.tar_shape = self.tar_img.GetSize()\n",
    "        self.reg_img = None\n",
    "        self.transformation = self.__center_initialization__()\n",
    "        self.reg_transform = None\n",
    "        \n",
    "    def imread(self, *args, **kwds):\n",
    "        return imreadseq_multithread(*args,**kwds)\n",
    "    \n",
    "    def __center_initialization__(self):\n",
    "        initial_transform = sitk.Euler3DTransform(sitk.CenteredTransformInitializer(self.ref_img, \n",
    "                                                      self.tar_img, \n",
    "                                                      sitk.Euler3DTransform(), \n",
    "                                                      sitk.CenteredTransformInitializerFilter.GEOMETRY))\n",
    "        \n",
    "        \n",
    "        return initial_transform\n",
    "    \n",
    "    def manual_initialization(self):\n",
    "                \n",
    "        def display( \n",
    "                    img_x, img_y, img_z, \n",
    "                    translation_x, translation_y, translation_z, \n",
    "                    rotation_x, rotation_y, rotation_z\n",
    "                   ):\n",
    "            \n",
    "            translation=(-translation_x, -translation_y, -translation_z)\n",
    "            center=[0.5*i for i in self.ref_shape]\n",
    "            rotation=(rotation_x, rotation_y, rotation_z)\n",
    "            \n",
    "            self.transformation.SetCenter(center)\n",
    "            self.transformation.SetRotation(*rotation)\n",
    "            self.transformation.SetTranslation(translation)\n",
    "            \n",
    "            self.reg_img = sitk.Resample(self.tar_img, self.ref_img, self.transformation, sitk.sitkLinear, 0.0, sitk.sitkFloat32)  \n",
    "            #yz_img = sitk.GetArrayFromImage(self.reg_img[img_x, :, :]) * 0.5 + sitk.GetArrayFromImage(self.ref_img[img_x, :, :])*0.5 \n",
    "            #xz_img = sitk.GetArrayFromImage(self.reg_img[:, img_y, :]) * 0.5 + sitk.GetArrayFromImage(self.ref_img[:, img_y, :])*0.5 \n",
    "            #xy_img = sitk.GetArrayFromImage(self.reg_img[:, :, img_z]) * 0.5 + sitk.GetArrayFromImage(self.ref_img[:, :, img_z])*0.5 \n",
    "            \n",
    "            plt.subplots(2,2,figsize=(10,8))\n",
    "            plt.subplot(2,2,1)\n",
    "            plt.imshow(sitk.GetArrayFromImage(self.ref_img)[::-1, :, img_x])\n",
    "            plt.imshow(sitk.GetArrayFromImage(self.reg_img)[::-1, :, img_x], cmap=plt.cm.Greys_r, alpha=0.5)\n",
    "            plt.title(\"Y-Z plane\")\n",
    "            plt.axis('off')\n",
    "            \n",
    "            plt.subplot(2,2,2)\n",
    "            plt.imshow(sitk.GetArrayFromImage(self.ref_img)[img_z, :, :])\n",
    "            plt.imshow(sitk.GetArrayFromImage(self.reg_img)[img_z, :, :], cmap=plt.cm.Greys_r, alpha=0.5)\n",
    "            plt.title(\"X-Y plane\")\n",
    "            plt.axis('off') \n",
    "            \n",
    "            plt.subplot(2,2,3)\n",
    "            plt.imshow(sitk.GetArrayFromImage(self.ref_img)[::-1, img_y, :])\n",
    "            plt.imshow(sitk.GetArrayFromImage(self.reg_img)[::-1, img_y, :], cmap=plt.cm.Greys_r, alpha=0.5)\n",
    "            plt.title(\"X-Z plane\")\n",
    "            plt.axis('off')   \n",
    "            \n",
    "            plt.subplot(2,2,4)\n",
    "            plt.axis('off') \n",
    "            \n",
    "            \n",
    "        interact_manual(display, img_x=(0, self.ref_shape[0]-1), img_y=(0, self.ref_shape[1]-1), img_z=(0, self.ref_shape[2]-1), \n",
    "                 translation_x=(-self.ref_shape[0]-self.transformation.GetTranslation()[0], self.ref_shape[0]-self.transformation.GetTranslation()[0], 2.0), \n",
    "                 translation_y=(-self.ref_shape[1]-self.transformation.GetTranslation()[1], self.ref_shape[1]-self.transformation.GetTranslation()[1], 2.0), \n",
    "                 translation_z=(-self.ref_shape[2]-self.transformation.GetTranslation()[2], self.ref_shape[2]-self.transformation.GetTranslation()[2], 2.0),\n",
    "                 rotation_x=(-np.pi+self.transformation.GetAngleX(), np.pi+self.transformation.GetAngleX(), 0.05), \n",
    "                 rotation_y=(-np.pi+self.transformation.GetAngleY(), np.pi+self.transformation.GetAngleY(), 0.05), \n",
    "                 rotation_z=(-np.pi+self.transformation.GetAngleZ(), np.pi+self.transformation.GetAngleZ(), 0.05)\n",
    "                )\n",
    "        \n",
    "    def registration(self):\n",
    "        registration_method = sitk.ImageRegistrationMethod()\n",
    "        registration_method.SetMetricAsMattesMutualInformation(numberOfHistogramBins=50)\n",
    "        registration_method.SetMetricSamplingStrategy(registration_method.RANDOM)\n",
    "        registration_method.SetMetricSamplingPercentage(0.20)\n",
    "        registration_method.SetInterpolator(sitk.sitkLinear)\n",
    "        registration_method.SetOptimizerAsGradientDescentLineSearch(learningRate=1.4,\n",
    "                                                                numberOfIterations=200,\n",
    "                                                                convergenceMinimumValue=1e-5,\n",
    "                                                                convergenceWindowSize=5)\n",
    "        registration_method.SetOptimizerScalesFromPhysicalShift()\n",
    "        registration_method.SetShrinkFactorsPerLevel(shrinkFactors = [4,2,1])\n",
    "        registration_method.SetSmoothingSigmasPerLevel(smoothingSigmas=[2,2,1])\n",
    "        registration_method.SmoothingSigmasAreSpecifiedInPhysicalUnitsOn()\n",
    "        registration_method.SetInitialTransform(self.transformation, inPlace=False)\n",
    "        self.reg_transform = registration_method.Execute(self.ref_img, self.tar_img)\n",
    "        self.reg_img = sitk.Resample(self.tar_img, self.ref_img, self.reg_transform, sitk.sitkLinear, 0.0, sitk.sitkFloat32)\n",
    "        \n",
    "    \n",
    "    def display_result(self):\n",
    "        \n",
    "        def display(img_x, img_y, img_z):\n",
    "            \n",
    "            plt.subplots(2,2,figsize=(10,8))\n",
    "            plt.subplot(2,2,1)\n",
    "            plt.imshow(sitk.GetArrayFromImage(self.ref_img)[::-1, :, img_x])\n",
    "            plt.imshow(sitk.GetArrayFromImage(self.reg_img)[::-1, :, img_x], cmap=plt.cm.Greys_r, alpha=0.5)\n",
    "            plt.title(\"Y-Z plane\")\n",
    "            plt.axis('off')\n",
    "            \n",
    "            plt.subplot(2,2,2)\n",
    "            plt.imshow(sitk.GetArrayFromImage(self.ref_img)[img_z, :, :])\n",
    "            plt.imshow(sitk.GetArrayFromImage(self.reg_img)[img_z, :, :], cmap=plt.cm.Greys_r, alpha=0.5)\n",
    "            plt.title(\"X-Y plane\")\n",
    "            plt.axis('off') \n",
    "            \n",
    "            plt.subplot(2,2,3)\n",
    "            plt.imshow(sitk.GetArrayFromImage(self.ref_img)[::-1, img_y, :])\n",
    "            plt.imshow(sitk.GetArrayFromImage(self.reg_img)[::-1, img_y, :], cmap=plt.cm.Greys_r, alpha=0.5)\n",
    "            plt.title(\"X-Z plane\")\n",
    "            plt.axis('off')   \n",
    "            \n",
    "            plt.subplot(2,2,4)\n",
    "            plt.axis('off') \n",
    "        \n",
    "        \n",
    "        interact(display, img_x=(0, self.ref_shape[0]-1), img_y=(0, self.ref_shape[1]-1), img_z=(0, self.ref_shape[2]-1))\n",
    "        \n",
    "    def save(self, *args, **kwds):\n",
    "        imsaveseq(sitk.Cast(self.reg_img, sitk.sitkUInt8), *args, **kwds)"
   ]
  },
  {
   "cell_type": "code",
   "execution_count": 37,
   "metadata": {},
   "outputs": [
    {
     "data": {
      "application/vnd.jupyter.widget-view+json": {
       "model_id": "2cc21e69668149d096dfb8c4597ca877",
       "version_major": 2,
       "version_minor": 0
      },
      "text/plain": [
       "interactive(children=(IntSlider(value=221, description='img_x', max=443), IntSlider(value=269, description='im…"
      ]
     },
     "metadata": {},
     "output_type": "display_data"
    }
   ],
   "source": [
    "import os\n",
    "import re\n",
    "import shutil\n",
    "refdir = r\"/media/spl/D/MicroCT_data/Machine learning/SITK_reg_7um\"\n",
    "tardir = r\"/media/spl/D/MicroCT_data/Machine learning/Treadmill running 35n tibia\"\n",
    "img_title = r\"372 week 5 left tibia\"\n",
    "fd_path = os.path.join(refdir, img_title+\" registered\")\n",
    "\n",
    "ref = os.path.join(refdir, re.sub(\"week \\d\", \"week 1\", img_title+\" registered\"))\n",
    "tar = os.path.join(tardir, img_title)\n",
    "\n",
    "if os.path.exists(fd_path):\n",
    "            shutil.rmtree(fd_path)\n",
    "        \n",
    "os.mkdir(fd_path)\n",
    "\n",
    "##############################\n",
    "reg = Registration(ref, tar, tar_z_range=[-550, -50], tar_flip = False)\n",
    "#reg = Registration(ref, tar)\n",
    "reg.manual_initialization()"
   ]
  },
  {
   "cell_type": "code",
   "execution_count": 38,
   "metadata": {},
   "outputs": [],
   "source": [
    "reg.registration()"
   ]
  },
  {
   "cell_type": "code",
   "execution_count": 39,
   "metadata": {},
   "outputs": [
    {
     "data": {
      "application/vnd.jupyter.widget-view+json": {
       "model_id": "c863372462104acc874eaffad278c4d3",
       "version_major": 2,
       "version_minor": 0
      },
      "text/plain": [
       "interactive(children=(IntSlider(value=221, description='img_x', max=443), IntSlider(value=269, description='im…"
      ]
     },
     "metadata": {},
     "output_type": "display_data"
    }
   ],
   "source": [
    "reg.display_result()"
   ]
  },
  {
   "cell_type": "code",
   "execution_count": 40,
   "metadata": {},
   "outputs": [],
   "source": [
    "reg.save(fd_path, img_title+\"_Reg\")"
   ]
  },
  {
   "cell_type": "code",
   "execution_count": 34,
   "metadata": {},
   "outputs": [
    {
     "name": "stdout",
     "output_type": "stream",
     "text": [
      "(390.0, 303.0, 381.0)\n",
      "(-0.0, -0.0, -0.0)\n",
      "-0.04159265358979303\n",
      "-0.04159265358979303\n",
      "-0.04159265358979303\n"
     ]
    }
   ],
   "source": [
    "print(reg.transformation.GetCenter())\n",
    "print(reg.transformation.GetTranslation())\n",
    "print(reg.transformation.GetAngleX())\n",
    "print(reg.transformation.GetAngleY())\n",
    "print(reg.transformation.GetAngleZ())"
   ]
  },
  {
   "cell_type": "code",
   "execution_count": 38,
   "metadata": {},
   "outputs": [
    {
     "name": "stdout",
     "output_type": "stream",
     "text": [
      "itk::simple::Transform\n",
      " CompositeTransform (00000204B250B420)\n",
      "   RTTI typeinfo:   class itk::CompositeTransform<double,3>\n",
      "   Reference Count: 1\n",
      "   Modified Time: 451657532\n",
      "   Debug: Off\n",
      "   Object Name: \n",
      "   Observers: \n",
      "     none\n",
      "   Transforms in queue, from begin to end:\n",
      "   >>>>>>>>>\n",
      "   Euler3DTransform (00000204E256EDE0)\n",
      "     RTTI typeinfo:   class itk::Euler3DTransform<double>\n",
      "     Reference Count: 1\n",
      "     Modified Time: 451657524\n",
      "     Debug: Off\n",
      "     Object Name: \n",
      "     Observers: \n",
      "       none\n",
      "     Matrix: \n",
      "       0.999466 -0.0310407 0.0102505 \n",
      "       0.0311343 0.999474 -0.00909449 \n",
      "       -0.00996285 0.00940877 0.999906 \n",
      "     Offset: [2.91215, -13.6611, -20.3215]\n",
      "     Center: [390, 303, 381]\n",
      "     Translation: [-2.79617, -5.14315, -21.392]\n",
      "     Inverse: \n",
      "       0.999466 0.0311343 -0.00996285 \n",
      "       -0.0310407 0.999474 0.00940877 \n",
      "       0.0102505 -0.00909449 0.999906 \n",
      "     Singular: 0\n",
      "     Euler's angles: AngleX=0.00940891 AngleY=0.00996346 AngleZ=0.0310471\n",
      "     m_ComputeZYX = 0\n",
      "   End of MultiTransform.\n",
      "<<<<<<<<<<\n",
      "   TransformsToOptimizeFlags, begin() to end(): \n",
      "      1 \n",
      "   TransformsToOptimize in queue, from begin to end:\n",
      "   End of TransformsToOptimizeQueue.\n",
      "<<<<<<<<<<\n",
      "   End of CompositeTransform.\n",
      "<<<<<<<<<<\n",
      "\n"
     ]
    }
   ],
   "source": [
    "print(reg.reg_transform)"
   ]
  },
  {
   "cell_type": "code",
   "execution_count": null,
   "metadata": {},
   "outputs": [],
   "source": []
  }
 ],
 "metadata": {
  "kernelspec": {
   "display_name": "Python 3",
   "language": "python",
   "name": "python3"
  },
  "language_info": {
   "codemirror_mode": {
    "name": "ipython",
    "version": 3
   },
   "file_extension": ".py",
   "mimetype": "text/x-python",
   "name": "python",
   "nbconvert_exporter": "python",
   "pygments_lexer": "ipython3",
   "version": "3.7.5"
  }
 },
 "nbformat": 4,
 "nbformat_minor": 2
}
