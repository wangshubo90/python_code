{
 "cells": [
  {
   "cell_type": "code",
   "execution_count": null,
   "metadata": {},
   "outputs": [],
   "source": [
    "import numpy as np\n",
    "import matplotlib.pyplot as plt\n",
    "import SimpleITK as sitk\n",
    "from shubow_tools import imreadseq_multithread, imsaveseq\n",
    "from ipywidgets import interact, fixed, interact_manual\n",
    "%matplotlib inline"
   ]
  },
  {
   "cell_type": "code",
   "execution_count": null,
   "metadata": {},
   "outputs": [],
   "source": [
    "class Registration2D:\n",
    "    def __init__(self, ref_img_file, tar_img_file):\n",
    "        \n",
    "        self.ref_img = sitk.GetArrayFromImage(sitk.ReadImage(ref_img_file))\n",
    "        self.tar_img = sitk.GetArrayFromImage(sitk.ReadImage(tar_img_file))\n",
    "        self._ref_img_grey = sitk.Cast(sitk.GetImageFromArray(self.ref_img.mean(axis = -1)), sitk.sitkFloat32)\n",
    "        self._tar_img_grey = sitk.Cast(sitk.GetImageFromArray(self.tar_img.mean(axis = -1)), sitk.sitkFloat32)\n",
    "        \n",
    "        self.ref_shape = self._ref_img_grey.GetSize()\n",
    "        self.tar_shape = self._tar_img_grey.GetSize()\n",
    "        \n",
    "        self.reg_img = np.zeros(shape = self.ref_img.shape, dtype=np.uint8)\n",
    "        self.transformation = self.__center_initialization__()\n",
    "        self.reg_transform = None\n",
    "        \n",
    "    def __center_initialization__(self):\n",
    "        '''initial_transform = sitk.Euler2DTransform(sitk.CenteredTransformInitializer(self._ref_img_grey, \n",
    "                                                      self._tar_img_grey, \n",
    "                                                      sitk.Euler2DTransform(), \n",
    "                                                      sitk.CenteredTransformInitializerFilter.GEOMETRY))'''\n",
    "        initial_transform = sitk.Euler2DTransform()\n",
    "        \n",
    "        return initial_transform\n",
    "    \n",
    "    def manual_initialization(self):\n",
    "        \n",
    "        def display(translation_x, translation_y, angle):\n",
    "            translation=(-translation_x, -translation_y)\n",
    "            center=[0.5*i for i in self.ref_shape]\n",
    "            \n",
    "            self.transformation.SetCenter(center)\n",
    "            self.transformation.SetAngle(angle*np.pi/180)\n",
    "            self.transformation.SetTranslation(translation)\n",
    "            \n",
    "            for i in range(3):\n",
    "                self.reg_img[:,:,i] = sitk.GetArrayFromImage(\n",
    "                    sitk.Resample(\n",
    "                        sitk.Cast(\n",
    "                            sitk.GetImageFromArray(self.tar_img[:,:,i]), sitk.sitkFloat32), \n",
    "                        self.transformation, \n",
    "                        sitk.sitkLinear,\n",
    "                        0.0, \n",
    "                        sitk.sitkUInt8\n",
    "                    )\n",
    "                )      \n",
    "            \n",
    "            plt.subplots(1,1,figsize = (8, 6), dpi = 100)\n",
    "            plt.subplot(1,1,1)\n",
    "            plt.imshow(self.ref_img, alpha = 1.0)\n",
    "            plt.imshow(self.reg_img, alpha = 0.7)\n",
    "            plt.axis('off')\n",
    "            \n",
    "        interact(display,  \n",
    "                translation_x=(-self.ref_shape[0]-self.transformation.GetTranslation()[0], self.ref_shape[0]-self.transformation.GetTranslation()[0], 1), \n",
    "                translation_y=(-self.ref_shape[1]-self.transformation.GetTranslation()[1], self.ref_shape[1]-self.transformation.GetTranslation()[1], 1), \n",
    "                angle=(-180, 180, 0.25), \n",
    "                )\n",
    "        \n",
    "    def save(self, *args, **kwds):\n",
    "        sitk.WriteImage(sitk.Cast(self.GetImageFromArray(self.reg_img), sitk.sitkUInt8), *args, **kwds)\n",
    "        \n",
    "    def save_transform(self, *args, **kwds):\n",
    "        sitk.WriteTransform(self.transformation, *args, **kwds)\n",
    "        \n",
    "    def load_transform(self, *args, **kwds):\n",
    "        self.transformation = sitk.ReadTransform(*args, **kwds)\n",
    "        \n",
    "    def display_results(self):\n",
    "            plt.subplots(1,1,figsize = (8, 6), dpi = 100)\n",
    "            plt.subplot(1,1,1)\n",
    "            plt.imshow(self.ref_img, alpha = 1.0)\n",
    "            plt.imshow(self.reg_img, alpha = 0.7)\n",
    "            plt.axis('off')"
   ]
  },
  {
   "cell_type": "code",
   "execution_count": null,
   "metadata": {},
   "outputs": [],
   "source": [
    "reg = Registration2D(ref_silver, tar_tunel)"
   ]
  },
  {
   "cell_type": "code",
   "execution_count": null,
   "metadata": {},
   "outputs": [],
   "source": [
    "reg.manual_initialization()"
   ]
  },
  {
   "cell_type": "code",
   "execution_count": null,
   "metadata": {},
   "outputs": [],
   "source": [
    "tar_tunel = r\"E:\\DATA\\01.14.21_mouse Sample_RCC_Texas Group\\1T TUNEL\\Image_20514-tip 2 (endo).tif\"\n",
    "ref_silver = r\"E:\\DATA\\01.14.21_mouse Sample_RCC_Texas Group\\1T\\1T_Image_20288.tif\"\n",
    "tar_img = sitk.GetArrayFromImage(sitk.GetImageFromArray(sitk.GetArrayFromImage(sitk.ReadImage(tar_tunel))))\n",
    "ref_img = sitk.GetArrayFromImage(sitk.ReadImage(ref_silver))"
   ]
  },
  {
   "cell_type": "code",
   "execution_count": null,
   "metadata": {},
   "outputs": [],
   "source": [
    "reg.save(r\"E:\\DATA\\01.14.21_mouse Sample_RCC_Texas Group\\1T TUNEL\\Image_20514-tip 2 (endo)__transformed.tif\")"
   ]
  },
  {
   "cell_type": "code",
   "execution_count": null,
   "metadata": {},
   "outputs": [],
   "source": [
    "reg.save_transform(r\"E:\\DATA\\01.14.21_mouse Sample_RCC_Texas Group\\1T TUNEL\\Image_20514-tip 2 (endo).tfm\")"
   ]
  },
  {
   "cell_type": "code",
   "execution_count": null,
   "metadata": {},
   "outputs": [],
   "source": [
    "reg.load_transform(r\"E:\\DATA\\01.14.21_mouse Sample_RCC_Texas Group\\1T TUNEL\\Image_20514-tip 2 (endo).tfm\")"
   ]
  },
  {
   "cell_type": "code",
   "execution_count": null,
   "metadata": {},
   "outputs": [],
   "source": []
  }
 ],
 "metadata": {
  "kernelspec": {
   "display_name": "Python 3",
   "language": "python",
   "name": "python3"
  },
  "language_info": {
   "codemirror_mode": {
    "name": "ipython",
    "version": 3
   },
   "file_extension": ".py",
   "mimetype": "text/x-python",
   "name": "python",
   "nbconvert_exporter": "python",
   "pygments_lexer": "ipython3",
   "version": "3.7.2"
  }
 },
 "nbformat": 4,
 "nbformat_minor": 2
}
