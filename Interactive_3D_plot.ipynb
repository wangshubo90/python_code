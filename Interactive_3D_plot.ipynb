{
 "cells": [
  {
   "cell_type": "code",
   "execution_count": 1,
   "metadata": {},
   "outputs": [
    {
     "name": "stdout",
     "output_type": "stream",
     "text": [
      "(1392640, 3)\n",
      "(5693, 3)\n"
     ]
    }
   ],
   "source": [
    "import numpy as np\n",
    "import skimage\n",
    "import histomicstk as htk\n",
    "from skimage.io import imread\n",
    "from skimage.color import rgb2gray\n",
    "import cv2\n",
    "\n",
    "from matplotlib import pyplot\n",
    "\n",
    "file = r\"/home/shubow/Desktop/test.tif\"\n",
    "image = imread(file)\n",
    "#image = cv2.GaussianBlur(image, (3,3), 0)\n",
    "\n",
    "def vectorized_roi(image):\n",
    "    grey_img = np.uint8(rgb2gray(image)*255)\n",
    "    roi = grey_img <135\n",
    "    roi = roi.flatten()\n",
    "    roi_indices = np.argwhere(roi==True)\n",
    "    return roi, roi_indices\n",
    "\n",
    "roi, roi_indices = vectorized_roi(image)\n",
    "\n",
    "nuclei = image.reshape((-1,3))[roi]\n",
    "print(image.reshape((-1,3)).shape)\n",
    "print(nuclei.shape)"
   ]
  },
  {
   "cell_type": "code",
   "execution_count": 4,
   "metadata": {
    "scrolled": false
   },
   "outputs": [
    {
     "data": {
      "application/vnd.jupyter.widget-view+json": {
       "model_id": "c6c3875cfa54465384ed7ffb0ced0d20",
       "version_major": 2,
       "version_minor": 0
      },
      "text/plain": [
       "Output()"
      ]
     },
     "metadata": {},
     "output_type": "display_data"
    }
   ],
   "source": [
    "\n",
    "import k3d\n",
    "plot = k3d.plot()\n",
    "\n",
    "colors = np.array([((i[0]<<16) + (i[1]<<8) + i[2]) for i in nuclei]).astype(np.uint32)\n",
    "points = k3d.points(nuclei, point_size = 2)\n",
    "plot += points\n",
    "plot.display()\n",
    "\n",
    "points.colors = colors\n",
    "\n",
    "\n",
    "plot.start_auto_play()\n"
   ]
  },
  {
   "cell_type": "code",
   "execution_count": 3,
   "metadata": {},
   "outputs": [
    {
     "data": {
      "application/vnd.jupyter.widget-view+json": {
       "model_id": "07e4fbe22f0a4e6db42ed34d4d92c387",
       "version_major": 2,
       "version_minor": 0
      },
      "text/plain": [
       "Output()"
      ]
     },
     "metadata": {},
     "output_type": "display_data"
    }
   ],
   "source": [
    "colors2 = skimage.io.imread(r\"/home/shubow/Desktop/test_kmeans.tif\")\n",
    "nuclei2 = colors2.reshape((-1,3))[roi]\n",
    "colors2 = np.array([((i[0]<<16) + (i[1]<<8) + i[2]) for i in nuclei2]).astype(np.uint32)\n",
    "\n",
    "plot3 = k3d.plot()\n",
    "points.colors = colors2\n",
    "plot3 += points\n",
    "plot.display()"
   ]
  },
  {
   "cell_type": "code",
   "execution_count": 5,
   "metadata": {},
   "outputs": [],
   "source": [
    "def __define_conv_matrix(stains = ['hematoxylin', 'dab','null']):\n",
    "    stain_color_map = htk.preprocessing.color_deconvolution.stain_color_map\n",
    "    conv_matrix = conv_matrix = np.array([stain_color_map[st] for st in stains]).T\n",
    "    return conv_matrix\n",
    "\n",
    "conv_matrix = __define_conv_matrix()\n",
    "img_deconvolved = htk.preprocessing.color_deconvolution.color_deconvolution(image, conv_matrix)"
   ]
  },
  {
   "cell_type": "code",
   "execution_count": 12,
   "metadata": {},
   "outputs": [
    {
     "data": {
      "application/vnd.jupyter.widget-view+json": {
       "model_id": "216c84f7181f49b29475dbd700b3448d",
       "version_major": 2,
       "version_minor": 0
      },
      "text/plain": [
       "Output()"
      ]
     },
     "metadata": {},
     "output_type": "display_data"
    }
   ],
   "source": [
    "plot2 = k3d.plot()\n",
    "points = k3d.points(positions = img_deconvolved.Stains.reshape(-1,3)[roi], point_size = 2)\n",
    "points.colors = colors\n",
    "plot2 += points\n",
    "\n",
    "plot2.display()"
   ]
  },
  {
   "cell_type": "code",
   "execution_count": 13,
   "metadata": {},
   "outputs": [],
   "source": [
    "points.colors = colors2"
   ]
  },
  {
   "cell_type": "code",
   "execution_count": 14,
   "metadata": {},
   "outputs": [],
   "source": [
    "points.colors = colors"
   ]
  },
  {
   "cell_type": "code",
   "execution_count": null,
   "metadata": {},
   "outputs": [],
   "source": []
  },
  {
   "cell_type": "code",
   "execution_count": null,
   "metadata": {},
   "outputs": [],
   "source": []
  }
 ],
 "metadata": {
  "kernelspec": {
   "display_name": "Python 3",
   "language": "python",
   "name": "python3"
  },
  "language_info": {
   "codemirror_mode": {
    "name": "ipython",
    "version": 3
   },
   "file_extension": ".py",
   "mimetype": "text/x-python",
   "name": "python",
   "nbconvert_exporter": "python",
   "pygments_lexer": "ipython3",
   "version": "3.7.5"
  }
 },
 "nbformat": 4,
 "nbformat_minor": 2
}
