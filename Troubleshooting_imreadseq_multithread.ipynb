{
 "cells": [
  {
   "cell_type": "code",
   "execution_count": 1,
   "metadata": {},
   "outputs": [],
   "source": [
    "import multiprocessing\n",
    "import concurrent.futures\n",
    "import cv2\n",
    "import numpy as np\n",
    "import glob\n",
    "import os\n",
    "import re\n",
    "import time\n",
    "import sys\n",
    "from Through_time_registration import imreadseq\n",
    "from shubow_tools import imreadseq_multithread as NB\n"
   ]
  },
  {
   "cell_type": "code",
   "execution_count": 7,
   "metadata": {},
   "outputs": [],
   "source": [
    "path = '/media/spl/D/MicroCT data/Yoda1-loading/Reconstruction week 0/393_week_0'"
   ]
  },
  {
   "cell_type": "code",
   "execution_count": 8,
   "metadata": {},
   "outputs": [],
   "source": [
    "imglist = [p for p in glob.glob(os.path.join(path,'*.bmp')) if re.search(r\"(00\\d{4,6})\",p)]\n",
    "imglist = sorted(imglist)\n",
    "img = cv2.imread(imglist[1],0)"
   ]
  },
  {
   "cell_type": "code",
   "execution_count": null,
   "metadata": {},
   "outputs": [],
   "source": [
    "#print(img.shape)\n",
    "print(type(img))"
   ]
  },
  {
   "cell_type": "code",
   "execution_count": null,
   "metadata": {},
   "outputs": [],
   "source": [
    "#time1 = time.time()\n",
    "#imgs1 = imreadseq(path,sitkimg=False)\n",
    "time2 = time.time()\n",
    "#print('Single thread reading time is: {:.1f} seconds'.format(time2-time1))\n",
    "#del imgs1\n",
    "\n",
    "imgs2 = NB(path,4,sitkimg=False)\n",
    "time3 = time.time()\n",
    "\n",
    "print('Multi thread reading time is: {:.1f} seconds'.format(time3-time2))\n",
    "#print(np.allclose(imgs1,imgs2))"
   ]
  },
  {
   "cell_type": "code",
   "execution_count": null,
   "metadata": {},
   "outputs": [],
   "source": [
    "time1 = time.time()\n",
    "imgs = imreadseq(path,sitkimg = False)\n",
    "time1 = time.time()\n",
    "print('Single thread reading time is: {:.1f} seconds'.format(time2-time1))\n",
    "print(\"Image ndarray size is: {: >7.1f}\".format(sys.getsizeof(imgs)/1024/1024))"
   ]
  },
  {
   "cell_type": "code",
   "execution_count": 10,
   "metadata": {},
   "outputs": [],
   "source": [
    "\n",
    "def randreadimseq(imagepath):\n",
    "    image_at_z=cv2.imread(imagepath,0)\n",
    "    return image_at_z"
   ]
  },
  {
   "cell_type": "code",
   "execution_count": 11,
   "metadata": {},
   "outputs": [
    {
     "name": "stdout",
     "output_type": "stream",
     "text": [
      "Multithreads reading time is: 7.2 seconds\n"
     ]
    }
   ],
   "source": [
    "imgs2 = []\n",
    "time1 = time.time()\n",
    "with concurrent.futures.ProcessPoolExecutor(max_workers = 4) as executor:\n",
    "    for idx,image in enumerate(executor.map(randreadimseq,imglist)):\n",
    "    #for idx,imagepath in enumerate(imglist):\n",
    "    #    executor.submit(randreadimseq,imagepath,imgs2[idx])\n",
    "        imgs2.append(image)\n",
    "imgs2 = np.array(imgs2)        \n",
    "time2 = time.time()\n",
    "print('Multithreads reading time is: {:.1f} seconds'.format(time2-time1))\n",
    "#print(\"Image ndarray size is: {: >7.1f}\".format(sys.getsizeof(imgs)/1024/1024))\n",
    "#print('Is reading correct?: {:s}'.format(str(np.allclose(imgs2,imgs))))"
   ]
  },
  {
   "cell_type": "code",
   "execution_count": null,
   "metadata": {},
   "outputs": [],
   "source": [
    "imgs3 = imreadseq(path,sitkimg=False)\n",
    "print('Is reading correct?: {:s}'.format(str(np.allclose(imgs2,imgs3))))"
   ]
  },
  {
   "cell_type": "code",
   "execution_count": null,
   "metadata": {},
   "outputs": [],
   "source": [
    "for i in range(0,1210,10):\n",
    "    print(np.allclose(imgs[i],imgs2[i]))"
   ]
  },
  {
   "cell_type": "code",
   "execution_count": null,
   "metadata": {},
   "outputs": [],
   "source": [
    "print(imgs2.shape)"
   ]
  },
  {
   "cell_type": "code",
   "execution_count": null,
   "metadata": {},
   "outputs": [],
   "source": [
    "import SimpleITK as sitk\n",
    "help(sitk.ImageSeriesWriter)"
   ]
  },
  {
   "cell_type": "code",
   "execution_count": null,
   "metadata": {},
   "outputs": [],
   "source": []
  }
 ],
 "metadata": {
  "kernelspec": {
   "display_name": "Python 3",
   "language": "python",
   "name": "python3"
  },
  "language_info": {
   "codemirror_mode": {
    "name": "ipython",
    "version": 3
   },
   "file_extension": ".py",
   "mimetype": "text/x-python",
   "name": "python",
   "nbconvert_exporter": "python",
   "pygments_lexer": "ipython3",
   "version": "3.7.5"
  }
 },
 "nbformat": 4,
 "nbformat_minor": 2
}
